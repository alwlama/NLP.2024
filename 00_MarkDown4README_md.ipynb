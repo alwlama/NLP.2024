{
  "nbformat": 4,
  "nbformat_minor": 0,
  "metadata": {
    "colab": {
      "provenance": [],
      "include_colab_link": true
    },
    "kernelspec": {
      "name": "python3",
      "display_name": "Python 3"
    },
    "language_info": {
      "name": "python"
    }
  },
  "cells": [
    {
      "cell_type": "markdown",
      "metadata": {
        "id": "view-in-github",
        "colab_type": "text"
      },
      "source": [
        "<a href=\"https://colab.research.google.com/github/alwlama/NLP.2024/blob/main/00_MarkDown4README_md.ipynb\" target=\"_parent\"><img src=\"https://colab.research.google.com/assets/colab-badge.svg\" alt=\"Open In Colab\"/></a>"
      ]
    },
    {
      "cell_type": "markdown",
      "source": [
        "# ✂️✏️📌 **How to Use <font color = 'red'> Markdown Language**\n",
        "* ## For <font color = 'orange'> more syntax</font> of markdown langauge, [Click here.](https://www.markdownguide.org/basic-syntax/)\n"
      ],
      "metadata": {
        "id": "nFyrb7heQOTL"
      }
    },
    {
      "cell_type": "markdown",
      "source": [
        "\n",
        "# 😰😘😍 **How to use <font color = 'red'> markdown Language**\n",
        "\n",
        "\n",
        "* ## For <font color = 'green' > more syntax </font> of markdown lauguage, [Click Here!](https://www.markdownguide.org/basic-syntax/)\n"
      ],
      "metadata": {
        "id": "9a3SZgN2sNrw"
      }
    },
    {
      "cell_type": "markdown",
      "source": [
        "\n",
        "\n",
        "# NLP_2024\n",
        "\n",
        "#❄️**python Language**\n",
        "##**Learning python** using **colab** ([visit colab Homepage](https://colab.google/)) and **Github** ([visit Github Homepage](https://github.com/rupa/z))\n",
        "\n",
        "\n",
        "### **1. Sign up github** ([Visit a tutorial on Youtube](://wwwhttps.youtube.com/watch?v=c-NikCpec7U))\n",
        "\n",
        "### **2. Sign up Google Colaboratory** (aka. Colab) ([Visit a tutorial on Youtube](https://www.youtube.com/watch?v=2X_EU18OeYM))\n",
        "\n",
        "### **3. Useful References**\n",
        "- Exercises 200 파이썬200제 by 장삼용. 정보문화사 2017\n",
        "- [Jump to Python](https://wikidocs.net/book/1)\n",
        "- [wikidocs for nltk](https://wikidocs.net/21667)\n",
        "\n",
        "###**4. Markdown Language**\n",
        "\n",
        "- [Emoji](https://gist.github.com/rxaviers/7360908)\n",
        "- [Markdown syntax](https://www.markdownguide.org/basic-syntax/)\n",
        "\n",
        "###**5. Class Materials**\n",
        "\n",
        "| # | Sessions | Keywords |\n",
        "|:--:|:--:|:--:|\n",
        "| 1 | Markdown Language 💭 | [syntax](https://github.com/ms624atyale/NLP_2024/blob/main/0_MarkDown4README_md.ipynb)|"
      ],
      "metadata": {
        "id": "9Kqh2-HUxoyG"
      }
    },
    {
      "cell_type": "markdown",
      "source": [],
      "metadata": {
        "id": "PgoPzO9U1mpZ"
      }
    },
    {
      "cell_type": "markdown",
      "source": [
        "# NLP_2024\n",
        "\n",
        "#👽**python Language**\n",
        "\n",
        "##**Learning python** using **colab** ([visit colab Homepage](https://colab.google/)) and **Github** ([visit Github Homepage](https://github.com/rupa/z))\n",
        "\n",
        "###**1. Sign up github**([Visit a tutorial on Youtube](://wwwhttps.youtube.com/watch?v=c-NikCpec7U))\n",
        "\n",
        "###**2. Sign up Google Colaboratory** (aka. Colab) ([Visit a tutorial on YOutube](https://www.youtube.com/watch?v=2X_EU18OeYM))\n",
        "\n",
        "###**3. Useful References**\n",
        "\n",
        "- Exercises 200 파이썬200제 by 장삼용. 정보문헌사2017\n",
        "- [Jump to python](https://wikidocs.net/book/)\n",
        "- [wikidocs for nltk](https://wikidocs.net/21667)\n",
        "\n",
        "###**4. Markdowm Language**\n",
        "\n",
        "- [Emoji](https://gist.github.com/rxaviers/7360908)\n",
        "- [Markdown syntax](https://www.markdownguide.org/basic-syntax/)\n",
        "\n",
        "###**5. Class Materials**\n",
        "\n",
        "| # | Sessions | Keywords |\n",
        "|:--:|:--:|:--:|\n",
        "| 1 | Markdown Language ✌️ | [syntax](https://github.com/ms624atyale/NLP_2024/blob/main/0_MarkDown4README_md.ipynb)|"
      ],
      "metadata": {
        "id": "wOGXwH_dxd77"
      }
    },
    {
      "cell_type": "markdown",
      "source": [],
      "metadata": {
        "id": "sCS6nHdVt3sR"
      }
    },
    {
      "cell_type": "markdown",
      "source": [
        "\n"
      ],
      "metadata": {
        "id": "tz7PR2zUsKyS"
      }
    },
    {
      "cell_type": "markdown",
      "source": [
        "# ✂️✏️📌 **How to Use <font color = 'red'> Markdown Language**"
      ],
      "metadata": {
        "id": "v3Nxgu5Ar2qy"
      }
    },
    {
      "cell_type": "markdown",
      "source": [
        "\n",
        "#💛❤️💜 **How to use <font color = 'green' > Markdown Language**\n"
      ],
      "metadata": {
        "id": "UVXIzHo9rsOd"
      }
    },
    {
      "cell_type": "markdown",
      "source": [],
      "metadata": {
        "id": "EPdvvpSCrued"
      }
    },
    {
      "cell_type": "markdown",
      "source": [],
      "metadata": {
        "id": "JC2OsP3sri4h"
      }
    },
    {
      "cell_type": "markdown",
      "source": [],
      "metadata": {
        "id": "ZhgrNA29rcHM"
      }
    },
    {
      "cell_type": "markdown",
      "source": [],
      "metadata": {
        "id": "KvAPibckjU9l"
      }
    },
    {
      "cell_type": "markdown",
      "source": [
        "# NLP_2024\n",
        "\n",
        "# 🐹🍦 **Python Language**\n",
        "\n",
        "## **Learning Python** using **Colab** ([Visit Colab homepage](https://colab.research.google.com/?utm_source=scs-index)) and **Github** ([Visit Github homepage](https://github.com/))\n",
        "\n",
        "### **1. Sign up github** ([Visit a tutorial on Youtube](https://www.youtube.com/watch?v=c-NikCpec7U))\n",
        "### **2. Sign up Google Colaboratory** (aka. Colab) ([Visit a tutorial on Youtube](https://www.youtube.com/watch?v=2X_EU18OeYM))\n",
        "\n",
        "### **3. Useful References**\n",
        "- Exercises 200 파이썬200제 by 장삼용. 정보문화사 2017\n",
        "- [Jump to Python](https://wikidocs.net/book/1)\n",
        "- [wikidocs for nltk](https://wikidocs.net/21667)\n",
        "\n",
        "### **4. Markdown Language**\n",
        "* [Emoji](https://gist.github.com/rxaviers/7360908)\n",
        "* [Markdown syntax](https://www.markdownguide.org/basic-syntax/)\n",
        "\n",
        "### **5. Class Materials**\n",
        "\n",
        "| # | Sessions | Keywords |  \n",
        "|:--:|:--:|:--:|\n",
        "| 1 | Markdown Language 👪 | [syntax](https://github.com/ms624atyale/NLP_2024/blob/main/0_MarkDown4README_md.ipynb)|  "
      ],
      "metadata": {
        "id": "OtctgkT2NOCS"
      }
    }
  ]
}